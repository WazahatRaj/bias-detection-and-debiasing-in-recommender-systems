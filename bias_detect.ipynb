{
 "cells": [
  {
   "cell_type": "code",
   "execution_count": 1,
   "id": "8419301f-1c29-4113-b019-384783627313",
   "metadata": {},
   "outputs": [
    {
     "name": "stdout",
     "output_type": "stream",
     "text": [
      "Requirement already satisfied: pandas in c:\\users\\hp\\appdata\\local\\programs\\python\\python310\\lib\\site-packages (2.3.0)\n",
      "Requirement already satisfied: numpy in c:\\users\\hp\\appdata\\local\\programs\\python\\python310\\lib\\site-packages (2.2.6)\n",
      "Requirement already satisfied: scikit-learn in c:\\users\\hp\\appdata\\local\\programs\\python\\python310\\lib\\site-packages (1.7.0)\n",
      "Requirement already satisfied: dowhy in c:\\users\\hp\\appdata\\local\\programs\\python\\python310\\lib\\site-packages (0.6)\n",
      "Requirement already satisfied: matplotlib in c:\\users\\hp\\appdata\\local\\programs\\python\\python310\\lib\\site-packages (3.10.3)\n",
      "Requirement already satisfied: seaborn in c:\\users\\hp\\appdata\\local\\programs\\python\\python310\\lib\\site-packages (0.13.2)\n",
      "Requirement already satisfied: python-dateutil>=2.8.2 in c:\\users\\hp\\appdata\\local\\programs\\python\\python310\\lib\\site-packages (from pandas) (2.9.0.post0)\n",
      "Requirement already satisfied: pytz>=2020.1 in c:\\users\\hp\\appdata\\local\\programs\\python\\python310\\lib\\site-packages (from pandas) (2025.2)\n",
      "Requirement already satisfied: tzdata>=2022.7 in c:\\users\\hp\\appdata\\local\\programs\\python\\python310\\lib\\site-packages (from pandas) (2025.2)\n",
      "Requirement already satisfied: scipy>=1.8.0 in c:\\users\\hp\\appdata\\local\\programs\\python\\python310\\lib\\site-packages (from scikit-learn) (1.15.3)\n",
      "Requirement already satisfied: joblib>=1.2.0 in c:\\users\\hp\\appdata\\local\\programs\\python\\python310\\lib\\site-packages (from scikit-learn) (1.5.1)\n",
      "Requirement already satisfied: threadpoolctl>=3.1.0 in c:\\users\\hp\\appdata\\local\\programs\\python\\python310\\lib\\site-packages (from scikit-learn) (3.6.0)\n",
      "Requirement already satisfied: statsmodels in c:\\users\\hp\\appdata\\local\\programs\\python\\python310\\lib\\site-packages (from dowhy) (0.14.4)\n",
      "Requirement already satisfied: networkx>=2.0 in c:\\users\\hp\\appdata\\local\\programs\\python\\python310\\lib\\site-packages (from dowhy) (3.4.2)\n",
      "Requirement already satisfied: sympy>=1.4 in c:\\users\\hp\\appdata\\local\\programs\\python\\python310\\lib\\site-packages (from dowhy) (1.14.0)\n",
      "Requirement already satisfied: pydot>=1.4 in c:\\users\\hp\\appdata\\local\\programs\\python\\python310\\lib\\site-packages (from dowhy) (4.0.1)\n",
      "Requirement already satisfied: contourpy>=1.0.1 in c:\\users\\hp\\appdata\\local\\programs\\python\\python310\\lib\\site-packages (from matplotlib) (1.3.2)\n",
      "Requirement already satisfied: cycler>=0.10 in c:\\users\\hp\\appdata\\local\\programs\\python\\python310\\lib\\site-packages (from matplotlib) (0.12.1)\n",
      "Requirement already satisfied: fonttools>=4.22.0 in c:\\users\\hp\\appdata\\local\\programs\\python\\python310\\lib\\site-packages (from matplotlib) (4.58.4)\n",
      "Requirement already satisfied: kiwisolver>=1.3.1 in c:\\users\\hp\\appdata\\local\\programs\\python\\python310\\lib\\site-packages (from matplotlib) (1.4.8)\n",
      "Requirement already satisfied: packaging>=20.0 in c:\\users\\hp\\appdata\\local\\programs\\python\\python310\\lib\\site-packages (from matplotlib) (25.0)\n",
      "Requirement already satisfied: pillow>=8 in c:\\users\\hp\\appdata\\local\\programs\\python\\python310\\lib\\site-packages (from matplotlib) (11.2.1)\n",
      "Requirement already satisfied: pyparsing>=2.3.1 in c:\\users\\hp\\appdata\\local\\programs\\python\\python310\\lib\\site-packages (from matplotlib) (3.2.3)\n",
      "Requirement already satisfied: six>=1.5 in c:\\users\\hp\\appdata\\local\\programs\\python\\python310\\lib\\site-packages (from python-dateutil>=2.8.2->pandas) (1.17.0)\n",
      "Requirement already satisfied: mpmath<1.4,>=1.1.0 in c:\\users\\hp\\appdata\\local\\programs\\python\\python310\\lib\\site-packages (from sympy>=1.4->dowhy) (1.3.0)\n",
      "Requirement already satisfied: patsy>=0.5.6 in c:\\users\\hp\\appdata\\local\\programs\\python\\python310\\lib\\site-packages (from statsmodels->dowhy) (1.0.1)\n",
      "Note: you may need to restart the kernel to use updated packages.\n"
     ]
    }
   ],
   "source": [
    "pip install pandas numpy scikit-learn dowhy matplotlib seaborn"
   ]
  },
  {
   "cell_type": "code",
   "execution_count": 2,
   "id": "b620b165-5c4d-4078-909e-0f87f5b67053",
   "metadata": {},
   "outputs": [],
   "source": [
    "import warnings\n",
    "warnings.filterwarnings('ignore')"
   ]
  },
  {
   "cell_type": "code",
   "execution_count": 3,
   "id": "6adf8b07-cee3-4481-8fb2-c6703e67b3e6",
   "metadata": {},
   "outputs": [],
   "source": [
    "import pandas as pd\n",
    "\n",
    "# Load the ratings data\n",
    "ratings = pd.read_csv('u.data', sep='\\t', names=['user_id', 'item_id', 'rating', 'timestamp'])\n",
    "\n",
    "# Load user information\n",
    "users = pd.read_csv('u.user', sep='|', names=['user_id', 'age', 'gender', 'occupation', 'zip_code'])\n",
    "\n",
    "# Load movie information\n",
    "movies = pd.read_csv('u.item', sep='|', encoding='latin-1', header=None)\n"
   ]
  },
  {
   "cell_type": "code",
   "execution_count": 4,
   "id": "4e367c4b-ec80-496a-b212-0305b3ecd110",
   "metadata": {},
   "outputs": [
    {
     "name": "stdout",
     "output_type": "stream",
     "text": [
      "   user_id  item_id  rating  timestamp\n",
      "0      196      242       3  881250949\n",
      "1      186      302       3  891717742\n",
      "2       22      377       1  878887116\n",
      "3      244       51       2  880606923\n",
      "4      166      346       1  886397596\n",
      "   user_id  age gender  occupation zip_code\n",
      "0        1   24      M  technician    85711\n",
      "1        2   53      F       other    94043\n",
      "2        3   23      M      writer    32067\n",
      "3        4   24      M  technician    43537\n",
      "4        5   33      F       other    15213\n",
      "   0                  1            2   3   \\\n",
      "0   1   Toy Story (1995)  01-Jan-1995 NaN   \n",
      "1   2   GoldenEye (1995)  01-Jan-1995 NaN   \n",
      "2   3  Four Rooms (1995)  01-Jan-1995 NaN   \n",
      "3   4  Get Shorty (1995)  01-Jan-1995 NaN   \n",
      "4   5     Copycat (1995)  01-Jan-1995 NaN   \n",
      "\n",
      "                                                  4   5   6   7   8   9   ...  \\\n",
      "0  http://us.imdb.com/M/title-exact?Toy%20Story%2...   0   0   0   1   1  ...   \n",
      "1  http://us.imdb.com/M/title-exact?GoldenEye%20(...   0   1   1   0   0  ...   \n",
      "2  http://us.imdb.com/M/title-exact?Four%20Rooms%...   0   0   0   0   0  ...   \n",
      "3  http://us.imdb.com/M/title-exact?Get%20Shorty%...   0   1   0   0   0  ...   \n",
      "4  http://us.imdb.com/M/title-exact?Copycat%20(1995)   0   0   0   0   0  ...   \n",
      "\n",
      "   14  15  16  17  18  19  20  21  22  23  \n",
      "0   0   0   0   0   0   0   0   0   0   0  \n",
      "1   0   0   0   0   0   0   0   1   0   0  \n",
      "2   0   0   0   0   0   0   0   1   0   0  \n",
      "3   0   0   0   0   0   0   0   0   0   0  \n",
      "4   0   0   0   0   0   0   0   1   0   0  \n",
      "\n",
      "[5 rows x 24 columns]\n"
     ]
    }
   ],
   "source": [
    "print(ratings.head())   # Shows first 5 rows of ratings\n",
    "print(users.head())     # Shows first 5 rows of user info\n",
    "print(movies.head())    # Shows first 5 rows of movie info"
   ]
  },
  {
   "cell_type": "code",
   "execution_count": 5,
   "id": "e4fc5509-a01a-457e-b448-9fd35ed0d2ca",
   "metadata": {},
   "outputs": [
    {
     "name": "stdout",
     "output_type": "stream",
     "text": [
      "   user_id  item_id  rating  timestamp  age gender  occupation zip_code\n",
      "0      196      242       3  881250949   49      M      writer    55105\n",
      "1      186      302       3  891717742   39      F   executive    00000\n",
      "2       22      377       1  878887116   25      M      writer    40206\n",
      "3      244       51       2  880606923   28      M  technician    80525\n",
      "4      166      346       1  886397596   47      M    educator    55113\n"
     ]
    }
   ],
   "source": [
    "data = pd.merge(ratings, users, on='user_id')\n",
    "\n",
    "print(data.head())"
   ]
  },
  {
   "cell_type": "code",
   "execution_count": 6,
   "id": "8486e022-1767-4c61-9e75-3d5fad360c87",
   "metadata": {},
   "outputs": [],
   "source": [
    "# Encode user_id and item_id as categorical codes (safe practice)\n",
    "data['user_id_encoded'] = data['user_id'].astype('category').cat.codes\n",
    "data['item_id_encoded'] = data['item_id'].astype('category').cat.codes"
   ]
  },
  {
   "cell_type": "code",
   "execution_count": 7,
   "id": "d1eded0b-ec01-4f7a-aa4e-2c889dda46b5",
   "metadata": {},
   "outputs": [],
   "source": [
    "from sklearn.model_selection import train_test_split\n",
    "\n",
    "train, test = train_test_split(data, test_size=0.2, random_state=42)"
   ]
  },
  {
   "cell_type": "code",
   "execution_count": 8,
   "id": "df200da0-b306-4ca5-af4d-3e97127c05ab",
   "metadata": {},
   "outputs": [],
   "source": [
    "# Calculate mean rating for each movie based on training data\n",
    "mean_ratings = train.groupby('item_id_encoded')['rating'].mean()\n",
    "\n",
    "# Predict for test set\n",
    "test['pred_rating'] = test['item_id_encoded'].map(mean_ratings)\n",
    "\n",
    "# Fill missing predictions with global mean rating\n",
    "global_mean = train['rating'].mean()\n",
    "test['pred_rating'].fillna(global_mean, inplace=True)"
   ]
  },
  {
   "cell_type": "code",
   "execution_count": 9,
   "id": "a87fdf33-352f-46d7-bc93-89bf96734610",
   "metadata": {},
   "outputs": [
    {
     "name": "stdout",
     "output_type": "stream",
     "text": [
      "Baseline RMSE: 1.0209640682297232\n"
     ]
    }
   ],
   "source": [
    "from sklearn.metrics import mean_squared_error\n",
    "import numpy as np\n",
    "\n",
    "rmse = np.sqrt(mean_squared_error(test['rating'], test['pred_rating']))\n",
    "print(f'Baseline RMSE: {rmse}')"
   ]
  },
  {
   "cell_type": "code",
   "execution_count": 10,
   "id": "c55e075d-69c5-4716-95cd-1548567c08a9",
   "metadata": {},
   "outputs": [],
   "source": [
    "import dowhy\n",
    "from dowhy import CausalModel"
   ]
  },
  {
   "cell_type": "code",
   "execution_count": 11,
   "id": "d9a46966-a352-46fc-afaf-9b37601f84d5",
   "metadata": {},
   "outputs": [],
   "source": [
    "causal_model = CausalModel(\n",
    "    data=data,\n",
    "    treatment='gender',      # Sensitive attribute we suspect may cause bias\n",
    "    outcome='rating',        # The recommendation output\n",
    "    common_causes=['age', 'occupation']  # Other factors affecting rating\n",
    ")"
   ]
  },
  {
   "cell_type": "code",
   "execution_count": 12,
   "id": "f8bf65d1-55e1-4817-94c4-2069596e8088",
   "metadata": {},
   "outputs": [
    {
     "data": {
      "image/png": "[encoded data removed]",
      "text/plain": [
       "<Figure size 640x480 with 1 Axes>"
      ]
     },
     "metadata": {},
     "output_type": "display_data"
    }
   ],
   "source": [
    "causal_model.view_model()"
   ]
  },
  {
   "cell_type": "code",
   "execution_count": 13,
   "id": "92155ecf-5602-4dea-9b25-c50c238c10fd",
   "metadata": {},
   "outputs": [
    {
     "name": "stdout",
     "output_type": "stream",
     "text": [
      "Estimand type: nonparametric-ate\n",
      "\n",
      "### Estimand : 1\n",
      "Estimand name: backdoor\n",
      "Estimand expression:\n",
      "    d                              \n",
      "─────────(E[rating|age,occupation])\n",
      "d[gender]                          \n",
      "Estimand assumption 1, Unconfoundedness: If U→{gender} and U→rating then P(rating|gender,age,occupation,U) = P(rating|gender,age,occupation)\n",
      "\n",
      "### Estimand : 2\n",
      "Estimand name: iv\n",
      "No such variable found!\n",
      "\n",
      "### Estimand : 3\n",
      "Estimand name: frontdoor\n",
      "No such variable found!\n",
      "\n"
     ]
    }
   ],
   "source": [
    "identified_estimand = causal_model.identify_effect()\n",
    "print(identified_estimand)"
   ]
  },
  {
   "cell_type": "code",
   "execution_count": 15,
   "id": "f2804cd0-8a4b-4025-8ecc-d735a5b45c77",
   "metadata": {},
   "outputs": [
    {
     "name": "stdout",
     "output_type": "stream",
     "text": [
      "['M' 'F']\n"
     ]
    }
   ],
   "source": [
    "print(data['gender'].unique())"
   ]
  },
  {
   "cell_type": "code",
   "execution_count": 16,
   "id": "f5edd5d5-cf7a-4f31-aec9-8642d646c112",
   "metadata": {},
   "outputs": [],
   "source": [
    "# Convert to binary (0 for Female, 1 for Male)\n",
    "data['gender'] = data['gender'].map({'M': 1, 'F': 0})\n"
   ]
  },
  {
   "cell_type": "code",
   "execution_count": 17,
   "id": "76590b57-0944-40ae-b9e7-350506cc1e5d",
   "metadata": {},
   "outputs": [
    {
     "name": "stdout",
     "output_type": "stream",
     "text": [
      "[1 0]\n"
     ]
    }
   ],
   "source": [
    "print(data['gender'].unique())"
   ]
  },
  {
   "cell_type": "code",
   "execution_count": 18,
   "id": "557dcb71-11e2-4b6b-85d9-d7c51ac266b2",
   "metadata": {},
   "outputs": [
    {
     "name": "stdout",
     "output_type": "stream",
     "text": [
      "*** Causal Estimate ***\n",
      "\n",
      "## Identified estimand\n",
      "Estimand type: nonparametric-ate\n",
      "\n",
      "### Estimand : 1\n",
      "Estimand name: backdoor\n",
      "Estimand expression:\n",
      "    d                              \n",
      "─────────(E[rating|age,occupation])\n",
      "d[gender]                          \n",
      "Estimand assumption 1, Unconfoundedness: If U→{gender} and U→rating then P(rating|gender,age,occupation,U) = P(rating|gender,age,occupation)\n",
      "\n",
      "## Realized estimand\n",
      "b: rating~gender+age+occupation\n",
      "Target units: ate\n",
      "\n",
      "## Estimate\n",
      "Mean value: -0.07513989133881749\n",
      "\n"
     ]
    }
   ],
   "source": [
    "causal_estimate = causal_model.estimate_effect(\n",
    "    identified_estimand,\n",
    "    method_name=\"backdoor.linear_regression\"\n",
    ")\n",
    "print(causal_estimate)"
   ]
  },
  {
   "cell_type": "code",
   "execution_count": 19,
   "id": "313086dc-b5ca-4c95-bf78-4ab482ba2d65",
   "metadata": {},
   "outputs": [
    {
     "name": "stdout",
     "output_type": "stream",
     "text": [
      "Refute: Use a Placebo Treatment\n",
      "Estimated effect:-0.07513989133881749\n",
      "New effect:-1.9984014443252818e-14\n",
      "p value:0.0\n",
      "\n"
     ]
    }
   ],
   "source": [
    "refutation = causal_model.refute_estimate(identified_estimand, causal_estimate, method_name=\"placebo_treatment_refuter\")\n",
    "print(refutation)"
   ]
  },
  {
   "cell_type": "code",
   "execution_count": 20,
   "id": "2716d7e5-d91f-4158-948b-e1a5319da0c3",
   "metadata": {},
   "outputs": [
    {
     "name": "stdout",
     "output_type": "stream",
     "text": [
      "*** Causal Estimate ***\n",
      "\n",
      "## Identified estimand\n",
      "Estimand type: nonparametric-ate\n",
      "\n",
      "### Estimand : 1\n",
      "Estimand name: backdoor\n",
      "Estimand expression:\n",
      "    d                              \n",
      "─────────(E[rating|age,occupation])\n",
      "d[gender]                          \n",
      "Estimand assumption 1, Unconfoundedness: If U→{gender} and U→rating then P(rating|gender,age,occupation,U) = P(rating|gender,age,occupation)\n",
      "\n",
      "## Realized estimand\n",
      "b: rating~gender+age+occupation\n",
      "Target units: ate\n",
      "\n",
      "## Estimate\n",
      "Mean value: -0.07513989133881749\n",
      "\n"
     ]
    }
   ],
   "source": [
    "causal_estimate2 = causal_model.estimate_effect(identified_estimand, method_name=\"backdoor.linear_regression\")\n",
    "print(causal_estimate2)"
   ]
  },
  {
   "cell_type": "code",
   "execution_count": 21,
   "id": "f15c1071-2c2f-439f-86e0-a1a8bcf7d8a8",
   "metadata": {},
   "outputs": [
    {
     "name": "stdout",
     "output_type": "stream",
     "text": [
      "Refute: Add a Random Common Cause\n",
      "Estimated effect:-0.07513989133881749\n",
      "New effect:-0.07516592431495228\n",
      "\n",
      "Refute: Use a subset of data\n",
      "Estimated effect:-0.07513989133881749\n",
      "New effect:-0.07436507758339514\n",
      "p value:0.42\n",
      "\n",
      "Refute: Use a Placebo Treatment\n",
      "Estimated effect:-0.07513989133881749\n",
      "New effect:-1.9984014443252818e-14\n",
      "p value:0.0\n",
      "\n"
     ]
    }
   ],
   "source": [
    "refutation1 = causal_model.refute_estimate(\n",
    "    identified_estimand, causal_estimate2, method_name=\"random_common_cause\"\n",
    ")\n",
    "print(refutation1)\n",
    "\n",
    "refutation2 = causal_model.refute_estimate(\n",
    "    identified_estimand, causal_estimate2, method_name=\"data_subset_refuter\"\n",
    ")\n",
    "print(refutation2)\n",
    "\n",
    "refutation3 = causal_model.refute_estimate(\n",
    "    identified_estimand, causal_estimate2, method_name=\"placebo_treatment_refuter\"\n",
    ")\n",
    "print(refutation3)"
   ]
  },
  {
   "cell_type": "code",
   "execution_count": 22,
   "id": "c40fcf7e-fcd1-4c5b-bedc-d03194963ad2",
   "metadata": {},
   "outputs": [
    {
     "name": "stdout",
     "output_type": "stream",
     "text": [
      "Requirement already satisfied: fairlearn in c:\\users\\hp\\appdata\\local\\programs\\python\\python310\\lib\\site-packages (0.12.0)\n",
      "Requirement already satisfied: numpy>=1.24.4 in c:\\users\\hp\\appdata\\local\\programs\\python\\python310\\lib\\site-packages (from fairlearn) (2.2.6)\n",
      "Requirement already satisfied: pandas>=2.0.3 in c:\\users\\hp\\appdata\\local\\programs\\python\\python310\\lib\\site-packages (from fairlearn) (2.3.0)\n",
      "Requirement already satisfied: scikit-learn>=1.2.1 in c:\\users\\hp\\appdata\\local\\programs\\python\\python310\\lib\\site-packages (from fairlearn) (1.7.0)\n",
      "Requirement already satisfied: scipy>=1.9.3 in c:\\users\\hp\\appdata\\local\\programs\\python\\python310\\lib\\site-packages (from fairlearn) (1.15.3)\n",
      "Requirement already satisfied: python-dateutil>=2.8.2 in c:\\users\\hp\\appdata\\local\\programs\\python\\python310\\lib\\site-packages (from pandas>=2.0.3->fairlearn) (2.9.0.post0)\n",
      "Requirement already satisfied: pytz>=2020.1 in c:\\users\\hp\\appdata\\local\\programs\\python\\python310\\lib\\site-packages (from pandas>=2.0.3->fairlearn) (2025.2)\n",
      "Requirement already satisfied: tzdata>=2022.7 in c:\\users\\hp\\appdata\\local\\programs\\python\\python310\\lib\\site-packages (from pandas>=2.0.3->fairlearn) (2025.2)\n",
      "Requirement already satisfied: six>=1.5 in c:\\users\\hp\\appdata\\local\\programs\\python\\python310\\lib\\site-packages (from python-dateutil>=2.8.2->pandas>=2.0.3->fairlearn) (1.17.0)\n",
      "Requirement already satisfied: joblib>=1.2.0 in c:\\users\\hp\\appdata\\local\\programs\\python\\python310\\lib\\site-packages (from scikit-learn>=1.2.1->fairlearn) (1.5.1)\n",
      "Requirement already satisfied: threadpoolctl>=3.1.0 in c:\\users\\hp\\appdata\\local\\programs\\python\\python310\\lib\\site-packages (from scikit-learn>=1.2.1->fairlearn) (3.6.0)\n",
      "<fairlearn.metrics._metric_frame.MetricFrame object at 0x000002940B3AE3E0>\n",
      "\n",
      "Demographic Parity Difference: 0.0093\n",
      "Equalized Odds Difference: 0.0000\n",
      "<fairlearn.metrics._metric_frame.MetricFrame object at 0x000002940BB36860>\n",
      "\n",
      "Demographic Parity Difference: 0.0093\n",
      "Equalized Odds Difference: 0.0000\n"
     ]
    }
   ],
   "source": [
    "\n",
    "# Fairness Metrics using fairlearn\n",
    "# The code below requires the 'fairlearn' package. If you do not have it installed, please install it using:\n",
    "# !pip install fairlearn\n",
    "!pip install fairlearn\n",
    "import fairlearn\n",
    "\n",
    "from fairlearn.metrics import MetricFrame, selection_rate, demographic_parity_difference, equalized_odds_difference\n",
    "from sklearn.metrics import accuracy_score\n",
    "import numpy as np\n",
    "\n",
    "# Binarize rating (modify threshold based on your needs)\n",
    "data['rating_binary'] = np.where(data['rating'] >= 3, 1, 0)\n",
    "\n",
    "# True and predicted outcomes (replace y_pred with actual model output if available)\n",
    "y_true = data['rating_binary']\n",
    "y_pred = data['rating_binary']  # For demonstration, assuming perfect prediction\n",
    "sensitive_feature = data['gender']\n",
    "\n",
    "# Fairness Metric Frame\n",
    "metric_frame = MetricFrame(\n",
    "    metrics={\n",
    "        'selection_rate': selection_rate,\n",
    "        'accuracy': accuracy_score\n",
    "    },\n",
    "    y_true=y_true,\n",
    "    y_pred=y_pred,\n",
    "    sensitive_features=sensitive_feature\n",
    ")\n",
    "\n",
    "print(metric_frame)\n",
    "\n",
    "# Group Fairness Differences\n",
    "dp_diff = demographic_parity_difference(y_true, y_pred, sensitive_features=sensitive_feature)\n",
    "eo_diff = equalized_odds_difference(y_true, y_pred, sensitive_features=sensitive_feature)\n",
    "\n",
    "print(f\"\\nDemographic Parity Difference: {dp_diff:.4f}\")\n",
    "print(f\"Equalized Odds Difference: {eo_diff:.4f}\")\n",
    "\n",
    "from fairlearn.metrics import MetricFrame, selection_rate, demographic_parity_difference, equalized_odds_difference\n",
    "from sklearn.metrics import accuracy_score\n",
    "import numpy as np\n",
    "\n",
    "# Binarize rating (modify threshold based on your needs)\n",
    "data['rating_binary'] = np.where(data['rating'] >= 3, 1, 0)\n",
    "\n",
    "# True and predicted outcomes (replace y_pred with actual model output if available)\n",
    "y_true = data['rating_binary']\n",
    "y_pred = data['rating_binary']  # For demonstration, assuming perfect prediction\n",
    "sensitive_feature = data['gender']\n",
    "\n",
    "# Fairness Metric Frame\n",
    "metric_frame = MetricFrame(\n",
    "    metrics={\n",
    "        'selection_rate': selection_rate,\n",
    "        'accuracy': accuracy_score\n",
    "    },\n",
    "    y_true=y_true,\n",
    "    y_pred=y_pred,\n",
    "    sensitive_features=sensitive_feature\n",
    ")\n",
    "\n",
    "print(metric_frame)\n",
    "\n",
    "# Group Fairness Differences\n",
    "dp_diff = demographic_parity_difference(y_true, y_pred, sensitive_features=sensitive_feature)\n",
    "eo_diff = equalized_odds_difference(y_true, y_pred, sensitive_features=sensitive_feature)\n",
    "\n",
    "print(f\"\\nDemographic Parity Difference: {dp_diff:.4f}\")\n",
    "print(f\"Equalized Odds Difference: {eo_diff:.4f}\")\n"
   ]
  }
 ],
 "metadata": {
  "kernelspec": {
   "display_name": "Python 3 (ipykernel)",
   "language": "python",
   "name": "python3"
  },
  "language_info": {
   "codemirror_mode": {
    "name": "ipython",
    "version": 3
   },
   "file_extension": ".py",
   "mimetype": "text/x-python",
   "name": "python",
   "nbconvert_exporter": "python",
   "pygments_lexer": "ipython3",
   "version": "3.10.7"
  }
 },
 "nbformat": 4,
 "nbformat_minor": 5
}
